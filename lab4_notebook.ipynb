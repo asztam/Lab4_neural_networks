{
 "cells": [
  {
   "cell_type": "markdown",
   "id": "5ffc81be",
   "metadata": {},
   "source": [
    "## Ćwieczenie 4"
   ]
  },
  {
   "cell_type": "markdown",
   "id": "46e5d905",
   "metadata": {},
   "source": [
    "# Sieci perceptronowe"
   ]
  },
  {
   "cell_type": "code",
   "execution_count": null,
   "id": "7b5e830f",
   "metadata": {
    "colab": {
     "base_uri": "https://localhost:8080/"
    },
    "id": "7b5e830f",
    "outputId": "54236ef3-e48f-45fe-b7a3-4f1536a6408c"
   },
   "outputs": [],
   "source": [
    "# -*- coding: utf-8 -*-\n",
    "\n",
    "import numpy as np\n",
    "import pandas as pd\n",
    "from keras import Sequential\n",
    "from keras.layers import Dense\n",
    "from sklearn.model_selection import train_test_split\n",
    "from sklearn.metrics import confusion_matrix\n",
    "from sklearn.preprocessing import OneHotEncoder, LabelEncoder\n",
    "\n",
    "df = pd.read_csv('textures_data.csv', sep=',')\n",
    "data = df.to_numpy()\n",
    "\n",
    "X = data[:, :-1].astype('float')\n",
    "y = data[:, -1]\n",
    "\n",
    "label_encoder = LabelEncoder()\n",
    "integer_encoded = label_encoder.fit_transform(y)\n",
    "\n",
    "# binary encode\n",
    "onehot_encoder = OneHotEncoder(sparse=False)\n",
    "integer_encoded = integer_encoded.reshape(len(integer_encoded), 1)\n",
    "onehot_encoded = onehot_encoder.fit_transform(integer_encoded)\n",
    "\n",
    "X_train, X_test, y_train, y_test = train_test_split(X, onehot_encoded, test_size=0.3)\n",
    "\n",
    "model = Sequential()\n",
    "model.add(Dense(10, input_dim=72, activation='sigmoid'))\n",
    "model.add(Dense(3, activation='softmax'))\n",
    "\n",
    "model.compile(loss='categorical_crossentropy', optimizer='sgd', metrics=['accuracy'])\n",
    "\n",
    "model.summary()\n",
    "\n",
    "model.fit(X_train, y_train, epochs=100, batch_size=10, shuffle=True)\n",
    "\n",
    "y_pred = model.predict(X_test)\n",
    "y_pred_int = np.argmax(y_pred, axis=1)\n",
    "y_test_int = np.argmax(y_test, axis=1)\n",
    "cm = confusion_matrix(y_test_int, y_pred_int)\n",
    "print(cm)\n"
   ]
  },
  {
   "cell_type": "markdown",
   "id": "dd14b9ae",
   "metadata": {},
   "source": [
    "Link do repozytorium GitHub:"
   ]
  },
  {
   "cell_type": "markdown",
   "id": "594d3f6d",
   "metadata": {},
   "source": [
    "https://github.com/asztam/lab4_neural_networks/blob/main/lab4_notebook.ipynb"
   ]
  }
 ],
 "metadata": {
  "accelerator": "GPU",
  "colab": {
   "collapsed_sections": [],
   "provenance": []
  },
  "kernelspec": {
   "display_name": "Python 3 (ipykernel)",
   "language": "python",
   "name": "python3"
  },
  "language_info": {
   "codemirror_mode": {
    "name": "ipython",
    "version": 3
   },
   "file_extension": ".py",
   "mimetype": "text/x-python",
   "name": "python",
   "nbconvert_exporter": "python",
   "pygments_lexer": "ipython3",
   "version": "3.10.2"
  }
 },
 "nbformat": 4,
 "nbformat_minor": 5
}
